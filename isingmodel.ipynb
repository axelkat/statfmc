{
 "cells": [
  {
   "cell_type": "code",
   "execution_count": 374,
   "metadata": {},
   "outputs": [],
   "source": [
    "import numpy as np\n",
    "from matplotlib import pyplot as plt\n",
    "import matplotlib.patches as mpatches\n"
   ]
  },
  {
   "cell_type": "code",
   "execution_count": 375,
   "metadata": {},
   "outputs": [],
   "source": [
    "\n",
    "def initgrid(L = 10, allup=False, ifplot=True):\n",
    "\n",
    "    M=np.zeros([L,L])\n",
    "    for i in range(len(M)):\n",
    "        for j in range(len(M)):\n",
    "            ran=np.random.random()\n",
    "            if(ran<0.5):\n",
    "                M[i,j] = 1\n",
    "            else:\n",
    "                if allup==False:\n",
    "                    M[i,j] = -1\n",
    "                else:\n",
    "                    M[i,j] = 1\n",
    "    if ifplot == True:\n",
    "        plt.figure(figsize=(6,6))\n",
    "        values = np.unique(M.ravel())\n",
    "    \n",
    "        im = plt.imshow(M, interpolation='none')\n",
    "        colors = [ im.cmap(im.norm(value)) for value in values]\n",
    "        patches = [ mpatches.Patch(color=colors[i], label=\"Spin {l}\".format(l=values[i]) ) for i in range(len(values)) ]\n",
    "        plt.legend(handles=patches, bbox_to_anchor=(1.05, 1), loc=2, borderaxespad=0. )\n",
    "        plt.title('Randomozed sipns on grid')\n",
    "        plt.grid(True)\n",
    "        plt.xticks(ticks=np.linspace(0,9,10))\n",
    "        plt.yticks(ticks=np.linspace(0,9,10))\n",
    "\n",
    "        plt.show()\n",
    "    return M, L"
   ]
  },
  {
   "cell_type": "code",
   "execution_count": 376,
   "metadata": {},
   "outputs": [],
   "source": [
    "def calcMagnetization(M):\n",
    "    spin = 0\n",
    "    for i in range(len(M)):\n",
    "        for j in range(len(M)):\n",
    "            if M[i,j]>0:\n",
    "                spin = spin+1\n",
    "            else:\n",
    "                spin = spin-1\n",
    "    return spin/len(M)**2"
   ]
  },
  {
   "cell_type": "code",
   "execution_count": 377,
   "metadata": {},
   "outputs": [],
   "source": [
    "def earlystopping(array, delta, index):\n",
    "    data=np.array(array[index-100:])\n",
    "    ave1=np.average(data)\n",
    "    data2=np.array(array[index-20:])\n",
    "    ave2=np.average(data2)\n",
    "    if abs((ave2-ave1))<ave1/50:\n",
    "        return True\n",
    "    else:\n",
    "        return False\n",
    "    "
   ]
  },
  {
   "cell_type": "code",
   "execution_count": 378,
   "metadata": {},
   "outputs": [],
   "source": [
    "def isingmodel (\n",
    "    n = 100,\n",
    "    h = 1,\n",
    "    K = 1, \n",
    "    kbT = 5\n",
    "):\n",
    "    M, L = initgrid(10,True, False)\n",
    "    Energy = 0\n",
    "    for i in range(L):\n",
    "        for j in range (L):\n",
    "            Sn = M[(i - 1) % L, j] + M[(i + 1) % L, j] + M[i, (j - 1) % L] + M[i, (j + 1) % L]   \n",
    "            Energy += M[i,j]*(h+K*Sn)\n",
    "    magnetization = []\n",
    "    energyHistory = []\n",
    "    max=0\n",
    "    prng = np.random.RandomState(12347890)\n",
    "    for tstep in range(n):\n",
    "        i=prng.randint(0,9)\n",
    "        j=prng.randint(0,9)\n",
    "        Sn = M[(i - 1) % L, j] + M[(i + 1) % L, j] + M[i, (j - 1) % L] + M[i, (j + 1) % L]\n",
    "        dE=-2 * M[i,j] * (h + K * Sn)\n",
    "        if dE<0 or prng.random()<np.exp(-dE/kbT):\n",
    "            M[i,j] = -M[i,j]\n",
    "            Energy+=dE\n",
    "        energyHistory.append(Energy)\n",
    "        magnetization.append(calcMagnetization(M))\n",
    "        if tstep>100:\n",
    "            if earlystopping(magnetization,0.1,tstep) == True:\n",
    "                max=tstep\n",
    "                break\n",
    "    \n",
    "    if max == 0:\n",
    "        max=n\n",
    "    return energyHistory,M,max, magnetization, np.average(np.array(magnetization[max-100:]))\n",
    "        "
   ]
  },
  {
   "cell_type": "code",
   "execution_count": 379,
   "metadata": {},
   "outputs": [
    {
     "name": "stdout",
     "output_type": "stream",
     "text": [
      "Process:0/100 (es:0)\n",
      "Process:1/100 (es:1)\n",
      "Process:2/100 (es:1)\n",
      "Process:3/100 (es:2)\n",
      "Process:4/100 (es:2)\n",
      "Process:5/100 (es:2)\n",
      "Process:6/100 (es:2)\n",
      "Process:7/100 (es:2)\n",
      "Process:8/100 (es:2)\n",
      "Process:9/100 (es:2)\n",
      "Process:10/100 (es:2)\n",
      "Process:11/100 (es:3)\n",
      "Process:12/100 (es:3)\n",
      "Process:13/100 (es:3)\n",
      "Process:14/100 (es:3)\n",
      "Process:15/100 (es:3)\n",
      "Process:16/100 (es:3)\n",
      "Process:17/100 (es:3)\n",
      "Process:18/100 (es:3)\n",
      "Process:19/100 (es:3)\n",
      "Process:20/100 (es:3)\n",
      "Process:21/100 (es:3)\n",
      "Process:22/100 (es:4)\n",
      "Process:23/100 (es:4)\n",
      "Process:24/100 (es:4)\n",
      "Process:25/100 (es:4)\n",
      "Process:26/100 (es:4)\n",
      "Process:27/100 (es:4)\n",
      "Process:28/100 (es:4)\n",
      "Process:29/100 (es:4)\n",
      "Process:30/100 (es:4)\n",
      "Process:31/100 (es:4)\n",
      "Process:32/100 (es:4)\n",
      "Process:33/100 (es:4)\n",
      "Process:34/100 (es:4)\n",
      "Process:35/100 (es:4)\n",
      "Process:36/100 (es:4)\n",
      "Process:37/100 (es:5)\n",
      "Process:38/100 (es:5)\n",
      "Process:39/100 (es:5)\n",
      "Process:40/100 (es:5)\n",
      "Process:41/100 (es:6)\n",
      "Process:42/100 (es:7)\n",
      "Process:43/100 (es:8)\n",
      "Process:44/100 (es:9)\n",
      "Process:45/100 (es:9)\n",
      "Process:46/100 (es:9)\n",
      "Process:47/100 (es:9)\n",
      "Process:48/100 (es:9)\n",
      "Process:49/100 (es:9)\n",
      "Process:50/100 (es:9)\n",
      "Process:51/100 (es:9)\n",
      "Process:52/100 (es:9)\n",
      "Process:53/100 (es:9)\n",
      "Process:54/100 (es:9)\n",
      "Process:55/100 (es:10)\n",
      "Process:56/100 (es:10)\n",
      "Process:57/100 (es:10)\n",
      "Process:58/100 (es:10)\n",
      "Process:59/100 (es:11)\n",
      "Process:60/100 (es:11)\n",
      "Process:61/100 (es:11)\n",
      "Process:62/100 (es:11)\n",
      "Process:63/100 (es:11)\n",
      "Process:64/100 (es:11)\n",
      "Process:65/100 (es:12)\n",
      "Process:66/100 (es:12)\n",
      "Process:67/100 (es:12)\n",
      "Process:68/100 (es:13)\n",
      "Process:69/100 (es:14)\n",
      "Process:70/100 (es:15)\n",
      "Process:71/100 (es:15)\n",
      "Process:72/100 (es:15)\n",
      "Process:73/100 (es:15)\n",
      "Process:74/100 (es:16)\n",
      "Process:75/100 (es:16)\n",
      "Process:76/100 (es:16)\n",
      "Process:77/100 (es:16)\n",
      "Process:78/100 (es:16)\n",
      "Process:79/100 (es:16)\n",
      "Process:80/100 (es:17)\n",
      "Process:81/100 (es:17)\n",
      "Process:82/100 (es:17)\n",
      "Process:83/100 (es:17)\n",
      "Process:84/100 (es:17)\n",
      "Process:85/100 (es:18)\n",
      "Process:86/100 (es:18)\n",
      "Process:87/100 (es:18)\n",
      "Process:88/100 (es:18)\n",
      "Process:89/100 (es:18)\n",
      "Process:90/100 (es:18)\n",
      "Process:91/100 (es:19)\n",
      "Process:92/100 (es:19)\n",
      "Process:93/100 (es:20)\n",
      "Process:94/100 (es:20)\n",
      "Process:95/100 (es:20)\n",
      "Process:96/100 (es:20)\n",
      "Process:97/100 (es:21)\n",
      "Process:98/100 (es:21)\n",
      "Process:99/100 (es:21)\n"
     ]
    },
    {
     "data": {
      "text/plain": [
       "[<matplotlib.lines.Line2D at 0x7f7624884340>]"
      ]
     },
     "execution_count": 379,
     "metadata": {},
     "output_type": "execute_result"
    },
    {
     "data": {
      "image/png": "[encoded data removed]",
      "text/plain": [
       "<Figure size 640x480 with 1 Axes>"
      ]
     },
     "metadata": {},
     "output_type": "display_data"
    }
   ],
   "source": [
    "ave= []\n",
    "H=[]\n",
    "es=0\n",
    "for i in range(100):\n",
    "    h=np.random.random()*10\n",
    "    Data,M,n, magnetization,average=isingmodel(5000,h,1,1)\n",
    "    if n<5000:\n",
    "        es+=1\n",
    "    print(f\"Process:{i}/{100} (es:{es})\")\n",
    "    ave.append(average)\n",
    "    H.append(h)\n",
    "plt.plot(H,ave,'.')\n"
   ]
  },
  {
   "cell_type": "code",
   "execution_count": 380,
   "metadata": {},
   "outputs": [
    {
     "data": {
      "text/plain": [
       "10"
      ]
     },
     "execution_count": 380,
     "metadata": {},
     "output_type": "execute_result"
    }
   ],
   "source": [
    "len(M)\n"
   ]
  },
  {
   "cell_type": "code",
   "execution_count": 381,
   "metadata": {},
   "outputs": [
    {
     "ename": "ValueError",
     "evalue": "x and y must have same first dimension, but have shapes (5001,) and (5000,)",
     "output_type": "error",
     "traceback": [
      "\u001b[0;31m---------------------------------------------------------------------------\u001b[0m",
      "\u001b[0;31mValueError\u001b[0m                                Traceback (most recent call last)",
      "Cell \u001b[0;32mIn [381], line 1\u001b[0m\n\u001b[0;32m----> 1\u001b[0m plt\u001b[39m.\u001b[39mplot(np\u001b[39m.\u001b[39mlinspace(\u001b[39m1\u001b[39m,n\u001b[39m+\u001b[39m\u001b[39m1\u001b[39m,n\u001b[39m+\u001b[39m\u001b[39m1\u001b[39m), magnetization)\n",
      "File \u001b[0;32m~/.local/lib/python3.10/site-packages/matplotlib/pyplot.py:2728\u001b[0m, in \u001b[0;36mplot\u001b[0;34m(scalex, scaley, data, *args, **kwargs)\u001b[0m\n\u001b[1;32m   2726\u001b[0m \u001b[39m@_copy_docstring_and_deprecators\u001b[39m(Axes\u001b[39m.\u001b[39mplot)\n\u001b[1;32m   2727\u001b[0m \u001b[39mdef\u001b[39;00m \u001b[39mplot\u001b[39m(\u001b[39m*\u001b[39margs, scalex\u001b[39m=\u001b[39m\u001b[39mTrue\u001b[39;00m, scaley\u001b[39m=\u001b[39m\u001b[39mTrue\u001b[39;00m, data\u001b[39m=\u001b[39m\u001b[39mNone\u001b[39;00m, \u001b[39m*\u001b[39m\u001b[39m*\u001b[39mkwargs):\n\u001b[0;32m-> 2728\u001b[0m     \u001b[39mreturn\u001b[39;00m gca()\u001b[39m.\u001b[39;49mplot(\n\u001b[1;32m   2729\u001b[0m         \u001b[39m*\u001b[39;49margs, scalex\u001b[39m=\u001b[39;49mscalex, scaley\u001b[39m=\u001b[39;49mscaley,\n\u001b[1;32m   2730\u001b[0m         \u001b[39m*\u001b[39;49m\u001b[39m*\u001b[39;49m({\u001b[39m\"\u001b[39;49m\u001b[39mdata\u001b[39;49m\u001b[39m\"\u001b[39;49m: data} \u001b[39mif\u001b[39;49;00m data \u001b[39mis\u001b[39;49;00m \u001b[39mnot\u001b[39;49;00m \u001b[39mNone\u001b[39;49;00m \u001b[39melse\u001b[39;49;00m {}), \u001b[39m*\u001b[39;49m\u001b[39m*\u001b[39;49mkwargs)\n",
      "File \u001b[0;32m~/.local/lib/python3.10/site-packages/matplotlib/axes/_axes.py:1662\u001b[0m, in \u001b[0;36mAxes.plot\u001b[0;34m(self, scalex, scaley, data, *args, **kwargs)\u001b[0m\n\u001b[1;32m   1419\u001b[0m \u001b[39m\"\"\"\u001b[39;00m\n\u001b[1;32m   1420\u001b[0m \u001b[39mPlot y versus x as lines and/or markers.\u001b[39;00m\n\u001b[1;32m   1421\u001b[0m \n\u001b[0;32m   (...)\u001b[0m\n\u001b[1;32m   1659\u001b[0m \u001b[39m(``'green'``) or hex strings (``'#008000'``).\u001b[39;00m\n\u001b[1;32m   1660\u001b[0m \u001b[39m\"\"\"\u001b[39;00m\n\u001b[1;32m   1661\u001b[0m kwargs \u001b[39m=\u001b[39m cbook\u001b[39m.\u001b[39mnormalize_kwargs(kwargs, mlines\u001b[39m.\u001b[39mLine2D)\n\u001b[0;32m-> 1662\u001b[0m lines \u001b[39m=\u001b[39m [\u001b[39m*\u001b[39m\u001b[39mself\u001b[39m\u001b[39m.\u001b[39m_get_lines(\u001b[39m*\u001b[39margs, data\u001b[39m=\u001b[39mdata, \u001b[39m*\u001b[39m\u001b[39m*\u001b[39mkwargs)]\n\u001b[1;32m   1663\u001b[0m \u001b[39mfor\u001b[39;00m line \u001b[39min\u001b[39;00m lines:\n\u001b[1;32m   1664\u001b[0m     \u001b[39mself\u001b[39m\u001b[39m.\u001b[39madd_line(line)\n",
      "File \u001b[0;32m~/.local/lib/python3.10/site-packages/matplotlib/axes/_base.py:311\u001b[0m, in \u001b[0;36m_process_plot_var_args.__call__\u001b[0;34m(self, data, *args, **kwargs)\u001b[0m\n\u001b[1;32m    309\u001b[0m     this \u001b[39m+\u001b[39m\u001b[39m=\u001b[39m args[\u001b[39m0\u001b[39m],\n\u001b[1;32m    310\u001b[0m     args \u001b[39m=\u001b[39m args[\u001b[39m1\u001b[39m:]\n\u001b[0;32m--> 311\u001b[0m \u001b[39myield from\u001b[39;00m \u001b[39mself\u001b[39;49m\u001b[39m.\u001b[39;49m_plot_args(\n\u001b[1;32m    312\u001b[0m     this, kwargs, ambiguous_fmt_datakey\u001b[39m=\u001b[39;49mambiguous_fmt_datakey)\n",
      "File \u001b[0;32m~/.local/lib/python3.10/site-packages/matplotlib/axes/_base.py:504\u001b[0m, in \u001b[0;36m_process_plot_var_args._plot_args\u001b[0;34m(self, tup, kwargs, return_kwargs, ambiguous_fmt_datakey)\u001b[0m\n\u001b[1;32m    501\u001b[0m     \u001b[39mself\u001b[39m\u001b[39m.\u001b[39maxes\u001b[39m.\u001b[39myaxis\u001b[39m.\u001b[39mupdate_units(y)\n\u001b[1;32m    503\u001b[0m \u001b[39mif\u001b[39;00m x\u001b[39m.\u001b[39mshape[\u001b[39m0\u001b[39m] \u001b[39m!=\u001b[39m y\u001b[39m.\u001b[39mshape[\u001b[39m0\u001b[39m]:\n\u001b[0;32m--> 504\u001b[0m     \u001b[39mraise\u001b[39;00m \u001b[39mValueError\u001b[39;00m(\u001b[39mf\u001b[39m\u001b[39m\"\u001b[39m\u001b[39mx and y must have same first dimension, but \u001b[39m\u001b[39m\"\u001b[39m\n\u001b[1;32m    505\u001b[0m                      \u001b[39mf\u001b[39m\u001b[39m\"\u001b[39m\u001b[39mhave shapes \u001b[39m\u001b[39m{\u001b[39;00mx\u001b[39m.\u001b[39mshape\u001b[39m}\u001b[39;00m\u001b[39m and \u001b[39m\u001b[39m{\u001b[39;00my\u001b[39m.\u001b[39mshape\u001b[39m}\u001b[39;00m\u001b[39m\"\u001b[39m)\n\u001b[1;32m    506\u001b[0m \u001b[39mif\u001b[39;00m x\u001b[39m.\u001b[39mndim \u001b[39m>\u001b[39m \u001b[39m2\u001b[39m \u001b[39mor\u001b[39;00m y\u001b[39m.\u001b[39mndim \u001b[39m>\u001b[39m \u001b[39m2\u001b[39m:\n\u001b[1;32m    507\u001b[0m     \u001b[39mraise\u001b[39;00m \u001b[39mValueError\u001b[39;00m(\u001b[39mf\u001b[39m\u001b[39m\"\u001b[39m\u001b[39mx and y can be no greater than 2D, but have \u001b[39m\u001b[39m\"\u001b[39m\n\u001b[1;32m    508\u001b[0m                      \u001b[39mf\u001b[39m\u001b[39m\"\u001b[39m\u001b[39mshapes \u001b[39m\u001b[39m{\u001b[39;00mx\u001b[39m.\u001b[39mshape\u001b[39m}\u001b[39;00m\u001b[39m and \u001b[39m\u001b[39m{\u001b[39;00my\u001b[39m.\u001b[39mshape\u001b[39m}\u001b[39;00m\u001b[39m\"\u001b[39m)\n",
      "\u001b[0;31mValueError\u001b[0m: x and y must have same first dimension, but have shapes (5001,) and (5000,)"
     ]
    },
    {
     "data": {
      "image/png": "[encoded data removed]",
      "text/plain": [
       "<Figure size 640x480 with 1 Axes>"
      ]
     },
     "metadata": {},
     "output_type": "display_data"
    }
   ],
   "source": [
    "plt.plot(np.linspace(1,n+1,n+1), magnetization)"
   ]
  }
 ],
 "metadata": {
  "kernelspec": {
   "display_name": "Python 3",
   "language": "python",
   "name": "python3"
  },
  "language_info": {
   "codemirror_mode": {
    "name": "ipython",
    "version": 3
   },
   "file_extension": ".py",
   "mimetype": "text/x-python",
   "name": "python",
   "nbconvert_exporter": "python",
   "pygments_lexer": "ipython3",
   "version": "3.10.6"
  },
  "orig_nbformat": 4,
  "vscode": {
   "interpreter": {
    "hash": "916dbcbb3f70747c44a77c7bcd40155683ae19c65e1c03b4aa3499c5328201f1"
   }
  }
 },
 "nbformat": 4,
 "nbformat_minor": 2
}
